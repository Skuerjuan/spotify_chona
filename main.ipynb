{
  "nbformat": 4,
  "nbformat_minor": 0,
  "metadata": {
    "colab": {
      "provenance": [],
      "authorship_tag": "ABX9TyOt4fxf33aGaiLgZk+NfMc/",
      "include_colab_link": true
    },
    "kernelspec": {
      "name": "python3",
      "display_name": "Python 3"
    },
    "language_info": {
      "name": "python"
    }
  },
  "cells": [
    {
      "cell_type": "markdown",
      "metadata": {
        "id": "view-in-github",
        "colab_type": "text"
      },
      "source": [
        "<a href=\"https://colab.research.google.com/github/Skuerjuan/spotify_chona/blob/main/main.ipynb\" target=\"_parent\"><img src=\"https://colab.research.google.com/assets/colab-badge.svg\" alt=\"Open In Colab\"/></a>"
      ]
    },
    {
      "cell_type": "markdown",
      "source": [
        "# TP Spotify\n",
        "## Felipe Maierowicz\n",
        "## 4°D"
      ],
      "metadata": {
        "id": "PaLhHgcwmhhn"
      }
    },
    {
      "cell_type": "code",
      "execution_count": 1,
      "metadata": {
        "id": "2Bg9mqrvktuv"
      },
      "outputs": [],
      "source": [
        "try:\n",
        "    import pandas as pd\n",
        "except ImportError:\n",
        "    print(\"Pandas not installed\")\n",
        "    %pip install pandas --user\n",
        "\n",
        "try:\n",
        "    import matplotlib.pyplot as plt\n",
        "except ImportError:\n",
        "    print(\"Matplotlib not installed\")\n",
        "    %pip install matplotlib --user\n",
        "\n",
        "import ssl\n",
        "\n",
        "ssl._create_default_https_context = ssl._create_unverified_context"
      ]
    },
    {
      "cell_type": "code",
      "source": [
        "import pandas as pd\n",
        "import matplotlib.pyplot as plt"
      ],
      "metadata": {
        "id": "LVrC7BIdlC4I"
      },
      "execution_count": 2,
      "outputs": []
    },
    {
      "cell_type": "code",
      "source": [
        "archivo = \"https://raw.githubusercontent.com/IgnacioPardo/Tecnologias_Exponenciales_2025/refs/heads/main/StreamingHistory_Extended.csv\"\n",
        "\n",
        "dataset = pd.read_csv(archivo)\n",
        "filtro = dataset[\"is_podcast\"] == False\n",
        "dataset = dataset[filtro] # Borrando los podcasts\n",
        "dataset.drop([\"user_agent_decrypted\", \"episode_name\", \"episode_show_name\", \"spotify_episode_uri\", \"skipped\", \"is_podcast\"], axis=\"columns\", inplace=True)\n",
        "# Borrando las columnas relacionadas a los podcasts y skipped se puede sacar de \"reason_end\"\n",
        "dataset.head()"
      ],
      "metadata": {
        "colab": {
          "base_uri": "https://localhost:8080/",
          "height": 348
        },
        "id": "fo7Yw-4llJ-6",
        "outputId": "8019c477-4d8a-4b83-b232-e5f009d2e252"
      },
      "execution_count": 3,
      "outputs": [
        {
          "output_type": "stream",
          "name": "stderr",
          "text": [
            "<ipython-input-3-a81948ab4373>:3: DtypeWarning: Columns (16) have mixed types. Specify dtype option on import or set low_memory=False.\n",
            "  dataset = pd.read_csv(archivo)\n"
          ]
        },
        {
          "output_type": "execute_result",
          "data": {
            "text/plain": [
              "                     ts     username               platform  ms_played  \\\n",
              "0  2020-12-06T02:51:11Z  11145402699  iOS 14.2 (iPhone12,3)     145610   \n",
              "1  2020-12-06T02:53:31Z  11145402699  iOS 14.2 (iPhone12,3)     138692   \n",
              "2  2020-12-06T02:53:53Z  11145402699  iOS 14.2 (iPhone12,3)      22662   \n",
              "3  2020-12-06T02:53:56Z  11145402699  iOS 14.2 (iPhone12,3)       2716   \n",
              "4  2020-12-06T02:53:57Z  11145402699  iOS 14.2 (iPhone12,3)        116   \n",
              "\n",
              "  conn_country   master_metadata_track_name master_metadata_album_artist_name  \\\n",
              "0           AR   Hey Jude - Remastered 2015                       The Beatles   \n",
              "1           AR              Hacer un puente                        La Franela   \n",
              "2           AR  Happy Together - Remastered                       The Turtles   \n",
              "3           AR                       Demons                   Imagine Dragons   \n",
              "4           AR              Paint It, Black                The Rolling Stones   \n",
              "\n",
              "  master_metadata_album_album_name                     spotify_track_uri  \\\n",
              "0                                1  spotify:track:0aym2LBJBk9DAYuHHutrIl   \n",
              "1                  Hacer Un Puente  spotify:track:18Q3WTfyWX1tdS1cp42NhA   \n",
              "2                  All the Singles  spotify:track:2admbUc576sC6M0QeUkg2C   \n",
              "3                    Night Visions  spotify:track:5qaEfEh1AtSdrdrByCP7qR   \n",
              "4                        Aftermath  spotify:track:63T7DJ1AFDD6Bn8VzG6JE8   \n",
              "\n",
              "  reason_start reason_end  shuffle  offline  offline_timestamp  \n",
              "0    trackdone     fwdbtn     True    False      1607222710755  \n",
              "1       fwdbtn     fwdbtn     True    False      1607223071185  \n",
              "2       fwdbtn     fwdbtn     True    False      1607223210387  \n",
              "3       fwdbtn     fwdbtn     True    False      1607223233165  \n",
              "4       fwdbtn     fwdbtn     True    False      1607223236453  "
            ],
            "text/html": [
              "\n",
              "  <div id=\"df-76dc342f-86e8-4784-9e6a-f5cf81c1e02d\" class=\"colab-df-container\">\n",
              "    <div>\n",
              "<style scoped>\n",
              "    .dataframe tbody tr th:only-of-type {\n",
              "        vertical-align: middle;\n",
              "    }\n",
              "\n",
              "    .dataframe tbody tr th {\n",
              "        vertical-align: top;\n",
              "    }\n",
              "\n",
              "    .dataframe thead th {\n",
              "        text-align: right;\n",
              "    }\n",
              "</style>\n",
              "<table border=\"1\" class=\"dataframe\">\n",
              "  <thead>\n",
              "    <tr style=\"text-align: right;\">\n",
              "      <th></th>\n",
              "      <th>ts</th>\n",
              "      <th>username</th>\n",
              "      <th>platform</th>\n",
              "      <th>ms_played</th>\n",
              "      <th>conn_country</th>\n",
              "      <th>master_metadata_track_name</th>\n",
              "      <th>master_metadata_album_artist_name</th>\n",
              "      <th>master_metadata_album_album_name</th>\n",
              "      <th>spotify_track_uri</th>\n",
              "      <th>reason_start</th>\n",
              "      <th>reason_end</th>\n",
              "      <th>shuffle</th>\n",
              "      <th>offline</th>\n",
              "      <th>offline_timestamp</th>\n",
              "    </tr>\n",
              "  </thead>\n",
              "  <tbody>\n",
              "    <tr>\n",
              "      <th>0</th>\n",
              "      <td>2020-12-06T02:51:11Z</td>\n",
              "      <td>11145402699</td>\n",
              "      <td>iOS 14.2 (iPhone12,3)</td>\n",
              "      <td>145610</td>\n",
              "      <td>AR</td>\n",
              "      <td>Hey Jude - Remastered 2015</td>\n",
              "      <td>The Beatles</td>\n",
              "      <td>1</td>\n",
              "      <td>spotify:track:0aym2LBJBk9DAYuHHutrIl</td>\n",
              "      <td>trackdone</td>\n",
              "      <td>fwdbtn</td>\n",
              "      <td>True</td>\n",
              "      <td>False</td>\n",
              "      <td>1607222710755</td>\n",
              "    </tr>\n",
              "    <tr>\n",
              "      <th>1</th>\n",
              "      <td>2020-12-06T02:53:31Z</td>\n",
              "      <td>11145402699</td>\n",
              "      <td>iOS 14.2 (iPhone12,3)</td>\n",
              "      <td>138692</td>\n",
              "      <td>AR</td>\n",
              "      <td>Hacer un puente</td>\n",
              "      <td>La Franela</td>\n",
              "      <td>Hacer Un Puente</td>\n",
              "      <td>spotify:track:18Q3WTfyWX1tdS1cp42NhA</td>\n",
              "      <td>fwdbtn</td>\n",
              "      <td>fwdbtn</td>\n",
              "      <td>True</td>\n",
              "      <td>False</td>\n",
              "      <td>1607223071185</td>\n",
              "    </tr>\n",
              "    <tr>\n",
              "      <th>2</th>\n",
              "      <td>2020-12-06T02:53:53Z</td>\n",
              "      <td>11145402699</td>\n",
              "      <td>iOS 14.2 (iPhone12,3)</td>\n",
              "      <td>22662</td>\n",
              "      <td>AR</td>\n",
              "      <td>Happy Together - Remastered</td>\n",
              "      <td>The Turtles</td>\n",
              "      <td>All the Singles</td>\n",
              "      <td>spotify:track:2admbUc576sC6M0QeUkg2C</td>\n",
              "      <td>fwdbtn</td>\n",
              "      <td>fwdbtn</td>\n",
              "      <td>True</td>\n",
              "      <td>False</td>\n",
              "      <td>1607223210387</td>\n",
              "    </tr>\n",
              "    <tr>\n",
              "      <th>3</th>\n",
              "      <td>2020-12-06T02:53:56Z</td>\n",
              "      <td>11145402699</td>\n",
              "      <td>iOS 14.2 (iPhone12,3)</td>\n",
              "      <td>2716</td>\n",
              "      <td>AR</td>\n",
              "      <td>Demons</td>\n",
              "      <td>Imagine Dragons</td>\n",
              "      <td>Night Visions</td>\n",
              "      <td>spotify:track:5qaEfEh1AtSdrdrByCP7qR</td>\n",
              "      <td>fwdbtn</td>\n",
              "      <td>fwdbtn</td>\n",
              "      <td>True</td>\n",
              "      <td>False</td>\n",
              "      <td>1607223233165</td>\n",
              "    </tr>\n",
              "    <tr>\n",
              "      <th>4</th>\n",
              "      <td>2020-12-06T02:53:57Z</td>\n",
              "      <td>11145402699</td>\n",
              "      <td>iOS 14.2 (iPhone12,3)</td>\n",
              "      <td>116</td>\n",
              "      <td>AR</td>\n",
              "      <td>Paint It, Black</td>\n",
              "      <td>The Rolling Stones</td>\n",
              "      <td>Aftermath</td>\n",
              "      <td>spotify:track:63T7DJ1AFDD6Bn8VzG6JE8</td>\n",
              "      <td>fwdbtn</td>\n",
              "      <td>fwdbtn</td>\n",
              "      <td>True</td>\n",
              "      <td>False</td>\n",
              "      <td>1607223236453</td>\n",
              "    </tr>\n",
              "  </tbody>\n",
              "</table>\n",
              "</div>\n",
              "    <div class=\"colab-df-buttons\">\n",
              "\n",
              "  <div class=\"colab-df-container\">\n",
              "    <button class=\"colab-df-convert\" onclick=\"convertToInteractive('df-76dc342f-86e8-4784-9e6a-f5cf81c1e02d')\"\n",
              "            title=\"Convert this dataframe to an interactive table.\"\n",
              "            style=\"display:none;\">\n",
              "\n",
              "  <svg xmlns=\"http://www.w3.org/2000/svg\" height=\"24px\" viewBox=\"0 -960 960 960\">\n",
              "    <path d=\"M120-120v-720h720v720H120Zm60-500h600v-160H180v160Zm220 220h160v-160H400v160Zm0 220h160v-160H400v160ZM180-400h160v-160H180v160Zm440 0h160v-160H620v160ZM180-180h160v-160H180v160Zm440 0h160v-160H620v160Z\"/>\n",
              "  </svg>\n",
              "    </button>\n",
              "\n",
              "  <style>\n",
              "    .colab-df-container {\n",
              "      display:flex;\n",
              "      gap: 12px;\n",
              "    }\n",
              "\n",
              "    .colab-df-convert {\n",
              "      background-color: #E8F0FE;\n",
              "      border: none;\n",
              "      border-radius: 50%;\n",
              "      cursor: pointer;\n",
              "      display: none;\n",
              "      fill: #1967D2;\n",
              "      height: 32px;\n",
              "      padding: 0 0 0 0;\n",
              "      width: 32px;\n",
              "    }\n",
              "\n",
              "    .colab-df-convert:hover {\n",
              "      background-color: #E2EBFA;\n",
              "      box-shadow: 0px 1px 2px rgba(60, 64, 67, 0.3), 0px 1px 3px 1px rgba(60, 64, 67, 0.15);\n",
              "      fill: #174EA6;\n",
              "    }\n",
              "\n",
              "    .colab-df-buttons div {\n",
              "      margin-bottom: 4px;\n",
              "    }\n",
              "\n",
              "    [theme=dark] .colab-df-convert {\n",
              "      background-color: #3B4455;\n",
              "      fill: #D2E3FC;\n",
              "    }\n",
              "\n",
              "    [theme=dark] .colab-df-convert:hover {\n",
              "      background-color: #434B5C;\n",
              "      box-shadow: 0px 1px 3px 1px rgba(0, 0, 0, 0.15);\n",
              "      filter: drop-shadow(0px 1px 2px rgba(0, 0, 0, 0.3));\n",
              "      fill: #FFFFFF;\n",
              "    }\n",
              "  </style>\n",
              "\n",
              "    <script>\n",
              "      const buttonEl =\n",
              "        document.querySelector('#df-76dc342f-86e8-4784-9e6a-f5cf81c1e02d button.colab-df-convert');\n",
              "      buttonEl.style.display =\n",
              "        google.colab.kernel.accessAllowed ? 'block' : 'none';\n",
              "\n",
              "      async function convertToInteractive(key) {\n",
              "        const element = document.querySelector('#df-76dc342f-86e8-4784-9e6a-f5cf81c1e02d');\n",
              "        const dataTable =\n",
              "          await google.colab.kernel.invokeFunction('convertToInteractive',\n",
              "                                                    [key], {});\n",
              "        if (!dataTable) return;\n",
              "\n",
              "        const docLinkHtml = 'Like what you see? Visit the ' +\n",
              "          '<a target=\"_blank\" href=https://colab.research.google.com/notebooks/data_table.ipynb>data table notebook</a>'\n",
              "          + ' to learn more about interactive tables.';\n",
              "        element.innerHTML = '';\n",
              "        dataTable['output_type'] = 'display_data';\n",
              "        await google.colab.output.renderOutput(dataTable, element);\n",
              "        const docLink = document.createElement('div');\n",
              "        docLink.innerHTML = docLinkHtml;\n",
              "        element.appendChild(docLink);\n",
              "      }\n",
              "    </script>\n",
              "  </div>\n",
              "\n",
              "\n",
              "    <div id=\"df-473dc917-95c0-4b78-b8e5-628374a1afde\">\n",
              "      <button class=\"colab-df-quickchart\" onclick=\"quickchart('df-473dc917-95c0-4b78-b8e5-628374a1afde')\"\n",
              "                title=\"Suggest charts\"\n",
              "                style=\"display:none;\">\n",
              "\n",
              "<svg xmlns=\"http://www.w3.org/2000/svg\" height=\"24px\"viewBox=\"0 0 24 24\"\n",
              "     width=\"24px\">\n",
              "    <g>\n",
              "        <path d=\"M19 3H5c-1.1 0-2 .9-2 2v14c0 1.1.9 2 2 2h14c1.1 0 2-.9 2-2V5c0-1.1-.9-2-2-2zM9 17H7v-7h2v7zm4 0h-2V7h2v10zm4 0h-2v-4h2v4z\"/>\n",
              "    </g>\n",
              "</svg>\n",
              "      </button>\n",
              "\n",
              "<style>\n",
              "  .colab-df-quickchart {\n",
              "      --bg-color: #E8F0FE;\n",
              "      --fill-color: #1967D2;\n",
              "      --hover-bg-color: #E2EBFA;\n",
              "      --hover-fill-color: #174EA6;\n",
              "      --disabled-fill-color: #AAA;\n",
              "      --disabled-bg-color: #DDD;\n",
              "  }\n",
              "\n",
              "  [theme=dark] .colab-df-quickchart {\n",
              "      --bg-color: #3B4455;\n",
              "      --fill-color: #D2E3FC;\n",
              "      --hover-bg-color: #434B5C;\n",
              "      --hover-fill-color: #FFFFFF;\n",
              "      --disabled-bg-color: #3B4455;\n",
              "      --disabled-fill-color: #666;\n",
              "  }\n",
              "\n",
              "  .colab-df-quickchart {\n",
              "    background-color: var(--bg-color);\n",
              "    border: none;\n",
              "    border-radius: 50%;\n",
              "    cursor: pointer;\n",
              "    display: none;\n",
              "    fill: var(--fill-color);\n",
              "    height: 32px;\n",
              "    padding: 0;\n",
              "    width: 32px;\n",
              "  }\n",
              "\n",
              "  .colab-df-quickchart:hover {\n",
              "    background-color: var(--hover-bg-color);\n",
              "    box-shadow: 0 1px 2px rgba(60, 64, 67, 0.3), 0 1px 3px 1px rgba(60, 64, 67, 0.15);\n",
              "    fill: var(--button-hover-fill-color);\n",
              "  }\n",
              "\n",
              "  .colab-df-quickchart-complete:disabled,\n",
              "  .colab-df-quickchart-complete:disabled:hover {\n",
              "    background-color: var(--disabled-bg-color);\n",
              "    fill: var(--disabled-fill-color);\n",
              "    box-shadow: none;\n",
              "  }\n",
              "\n",
              "  .colab-df-spinner {\n",
              "    border: 2px solid var(--fill-color);\n",
              "    border-color: transparent;\n",
              "    border-bottom-color: var(--fill-color);\n",
              "    animation:\n",
              "      spin 1s steps(1) infinite;\n",
              "  }\n",
              "\n",
              "  @keyframes spin {\n",
              "    0% {\n",
              "      border-color: transparent;\n",
              "      border-bottom-color: var(--fill-color);\n",
              "      border-left-color: var(--fill-color);\n",
              "    }\n",
              "    20% {\n",
              "      border-color: transparent;\n",
              "      border-left-color: var(--fill-color);\n",
              "      border-top-color: var(--fill-color);\n",
              "    }\n",
              "    30% {\n",
              "      border-color: transparent;\n",
              "      border-left-color: var(--fill-color);\n",
              "      border-top-color: var(--fill-color);\n",
              "      border-right-color: var(--fill-color);\n",
              "    }\n",
              "    40% {\n",
              "      border-color: transparent;\n",
              "      border-right-color: var(--fill-color);\n",
              "      border-top-color: var(--fill-color);\n",
              "    }\n",
              "    60% {\n",
              "      border-color: transparent;\n",
              "      border-right-color: var(--fill-color);\n",
              "    }\n",
              "    80% {\n",
              "      border-color: transparent;\n",
              "      border-right-color: var(--fill-color);\n",
              "      border-bottom-color: var(--fill-color);\n",
              "    }\n",
              "    90% {\n",
              "      border-color: transparent;\n",
              "      border-bottom-color: var(--fill-color);\n",
              "    }\n",
              "  }\n",
              "</style>\n",
              "\n",
              "      <script>\n",
              "        async function quickchart(key) {\n",
              "          const quickchartButtonEl =\n",
              "            document.querySelector('#' + key + ' button');\n",
              "          quickchartButtonEl.disabled = true;  // To prevent multiple clicks.\n",
              "          quickchartButtonEl.classList.add('colab-df-spinner');\n",
              "          try {\n",
              "            const charts = await google.colab.kernel.invokeFunction(\n",
              "                'suggestCharts', [key], {});\n",
              "          } catch (error) {\n",
              "            console.error('Error during call to suggestCharts:', error);\n",
              "          }\n",
              "          quickchartButtonEl.classList.remove('colab-df-spinner');\n",
              "          quickchartButtonEl.classList.add('colab-df-quickchart-complete');\n",
              "        }\n",
              "        (() => {\n",
              "          let quickchartButtonEl =\n",
              "            document.querySelector('#df-473dc917-95c0-4b78-b8e5-628374a1afde button');\n",
              "          quickchartButtonEl.style.display =\n",
              "            google.colab.kernel.accessAllowed ? 'block' : 'none';\n",
              "        })();\n",
              "      </script>\n",
              "    </div>\n",
              "\n",
              "    </div>\n",
              "  </div>\n"
            ],
            "application/vnd.google.colaboratory.intrinsic+json": {
              "type": "dataframe",
              "variable_name": "dataset"
            }
          },
          "metadata": {},
          "execution_count": 3
        }
      ]
    },
    {
      "cell_type": "code",
      "source": [
        "'''\n",
        "---Análisis de las Columnas:\n",
        "-shuffle, reason_start, reason_end u offline dependen del\n",
        "comportamiento del usuario (ms_played depende de la duración de la canción\n",
        "y de si skippeó o la escuchó entera, que se puede sacar de reason_end)\n",
        "-columnas de master + spotify_track_uri dependen de la canción y el autor\n",
        "-ts, offline_timestamp dependen de la fecha y hora de la escucha\n",
        "-username, platform, conn_country y user_agent dependen\n",
        "del usuario y el dispositivo\n",
        "'''\n",
        "dataset.columns"
      ],
      "metadata": {
        "colab": {
          "base_uri": "https://localhost:8080/"
        },
        "id": "1m5Da_5km3bV",
        "outputId": "38916756-dadc-48d9-9dc0-052c494c6c3a"
      },
      "execution_count": null,
      "outputs": [
        {
          "output_type": "execute_result",
          "data": {
            "text/plain": [
              "Index(['ts', 'username', 'platform', 'ms_played', 'conn_country',\n",
              "       'master_metadata_track_name', 'master_metadata_album_artist_name',\n",
              "       'master_metadata_album_album_name', 'spotify_track_uri', 'reason_start',\n",
              "       'reason_end', 'shuffle', 'offline', 'offline_timestamp'],\n",
              "      dtype='object')"
            ]
          },
          "metadata": {},
          "execution_count": 23
        }
      ]
    },
    {
      "cell_type": "code",
      "source": [
        "# Primer y última fecha\n",
        "dataset['ts'] = pd.to_datetime(dataset['ts'])\n",
        "print(dataset['ts'].min(), \" - \", dataset['ts'].max())"
      ],
      "metadata": {
        "id": "myZIwce9p_Gr",
        "colab": {
          "base_uri": "https://localhost:8080/"
        },
        "outputId": "fd7e3dc3-a689-403a-f000-ff32ea0ff6c6"
      },
      "execution_count": 4,
      "outputs": [
        {
          "output_type": "stream",
          "name": "stdout",
          "text": [
            "2014-06-27 18:01:15+00:00  -  2024-05-23 23:56:20+00:00\n"
          ]
        }
      ]
    },
    {
      "cell_type": "code",
      "source": [
        "# Cantidad de canciones\n",
        "\n",
        "songs = dataset[\"spotify_track_uri\"]\n",
        "songs = songs.unique()\n",
        "len(songs)"
      ],
      "metadata": {
        "colab": {
          "base_uri": "https://localhost:8080/"
        },
        "id": "BqFhRC-rj-Gj",
        "outputId": "99c54081-6585-4c2e-b8c5-1a3968c6d1cc"
      },
      "execution_count": 5,
      "outputs": [
        {
          "output_type": "execute_result",
          "data": {
            "text/plain": [
              "11557"
            ]
          },
          "metadata": {},
          "execution_count": 5
        }
      ]
    },
    {
      "cell_type": "code",
      "source": [
        "# Duración reproducciones\n",
        "\n",
        "time_spent_song = dataset.groupby('spotify_track_uri')['ms_played'].sum()\n",
        "time_spent_song.head()"
      ],
      "metadata": {
        "colab": {
          "base_uri": "https://localhost:8080/",
          "height": 272
        },
        "id": "t4CWQyiApAif",
        "outputId": "ffdf61e4-70df-4de0-face-32dc6a5d8012"
      },
      "execution_count": 6,
      "outputs": [
        {
          "output_type": "execute_result",
          "data": {
            "text/plain": [
              "spotify_track_uri\n",
              "spotify:track:001b8XFtRhhFrMbWROVgO4    308533\n",
              "spotify:track:008YILXYfsMa2KuPY8bBtl    169936\n",
              "spotify:track:009s8MccQSXM4pAQwsP59s      4373\n",
              "spotify:track:00DiMUseXsW3L8eR8G8xOa      2078\n",
              "spotify:track:00GOPLxW4PGQuUYdPJh8K1    181406\n",
              "Name: ms_played, dtype: int64"
            ],
            "text/html": [
              "<div>\n",
              "<style scoped>\n",
              "    .dataframe tbody tr th:only-of-type {\n",
              "        vertical-align: middle;\n",
              "    }\n",
              "\n",
              "    .dataframe tbody tr th {\n",
              "        vertical-align: top;\n",
              "    }\n",
              "\n",
              "    .dataframe thead th {\n",
              "        text-align: right;\n",
              "    }\n",
              "</style>\n",
              "<table border=\"1\" class=\"dataframe\">\n",
              "  <thead>\n",
              "    <tr style=\"text-align: right;\">\n",
              "      <th></th>\n",
              "      <th>ms_played</th>\n",
              "    </tr>\n",
              "    <tr>\n",
              "      <th>spotify_track_uri</th>\n",
              "      <th></th>\n",
              "    </tr>\n",
              "  </thead>\n",
              "  <tbody>\n",
              "    <tr>\n",
              "      <th>spotify:track:001b8XFtRhhFrMbWROVgO4</th>\n",
              "      <td>308533</td>\n",
              "    </tr>\n",
              "    <tr>\n",
              "      <th>spotify:track:008YILXYfsMa2KuPY8bBtl</th>\n",
              "      <td>169936</td>\n",
              "    </tr>\n",
              "    <tr>\n",
              "      <th>spotify:track:009s8MccQSXM4pAQwsP59s</th>\n",
              "      <td>4373</td>\n",
              "    </tr>\n",
              "    <tr>\n",
              "      <th>spotify:track:00DiMUseXsW3L8eR8G8xOa</th>\n",
              "      <td>2078</td>\n",
              "    </tr>\n",
              "    <tr>\n",
              "      <th>spotify:track:00GOPLxW4PGQuUYdPJh8K1</th>\n",
              "      <td>181406</td>\n",
              "    </tr>\n",
              "  </tbody>\n",
              "</table>\n",
              "</div><br><label><b>dtype:</b> int64</label>"
            ]
          },
          "metadata": {},
          "execution_count": 6
        }
      ]
    },
    {
      "cell_type": "code",
      "source": [
        "# Duración por artista\n",
        "\n",
        "time_spent_artist = dataset.groupby(\"master_metadata_album_artist_name\")['ms_played'].sum()\n",
        "time_spent_artist.head()"
      ],
      "metadata": {
        "colab": {
          "base_uri": "https://localhost:8080/",
          "height": 272
        },
        "id": "I3r6jEb6r25w",
        "outputId": "2224f5aa-bcb9-406f-a67c-d2de4909f03b"
      },
      "execution_count": 7,
      "outputs": [
        {
          "output_type": "execute_result",
          "data": {
            "text/plain": [
              "master_metadata_album_artist_name\n",
              " VK Blanka                 9031\n",
              "!!!                         348\n",
              "\"Weird Al\" Yankovic      511282\n",
              "#TocoParaVos           10365206\n",
              "$NOT                      23186\n",
              "Name: ms_played, dtype: int64"
            ],
            "text/html": [
              "<div>\n",
              "<style scoped>\n",
              "    .dataframe tbody tr th:only-of-type {\n",
              "        vertical-align: middle;\n",
              "    }\n",
              "\n",
              "    .dataframe tbody tr th {\n",
              "        vertical-align: top;\n",
              "    }\n",
              "\n",
              "    .dataframe thead th {\n",
              "        text-align: right;\n",
              "    }\n",
              "</style>\n",
              "<table border=\"1\" class=\"dataframe\">\n",
              "  <thead>\n",
              "    <tr style=\"text-align: right;\">\n",
              "      <th></th>\n",
              "      <th>ms_played</th>\n",
              "    </tr>\n",
              "    <tr>\n",
              "      <th>master_metadata_album_artist_name</th>\n",
              "      <th></th>\n",
              "    </tr>\n",
              "  </thead>\n",
              "  <tbody>\n",
              "    <tr>\n",
              "      <th>VK Blanka</th>\n",
              "      <td>9031</td>\n",
              "    </tr>\n",
              "    <tr>\n",
              "      <th>!!!</th>\n",
              "      <td>348</td>\n",
              "    </tr>\n",
              "    <tr>\n",
              "      <th>\"Weird Al\" Yankovic</th>\n",
              "      <td>511282</td>\n",
              "    </tr>\n",
              "    <tr>\n",
              "      <th>#TocoParaVos</th>\n",
              "      <td>10365206</td>\n",
              "    </tr>\n",
              "    <tr>\n",
              "      <th>$NOT</th>\n",
              "      <td>23186</td>\n",
              "    </tr>\n",
              "  </tbody>\n",
              "</table>\n",
              "</div><br><label><b>dtype:</b> int64</label>"
            ]
          },
          "metadata": {},
          "execution_count": 7
        }
      ]
    },
    {
      "cell_type": "code",
      "source": [
        "# canción más escuchada\n",
        "song_uri = time_spent_song.idxmax()\n",
        "dataset[dataset[\"spotify_track_uri\"] == song_uri][[\"master_metadata_track_name\", \"master_metadata_album_artist_name\"]].iloc[0]"
      ],
      "metadata": {
        "colab": {
          "base_uri": "https://localhost:8080/",
          "height": 147
        },
        "id": "iWGkv_41tMpN",
        "outputId": "0e2b6db0-05e7-4609-e5c3-73cb0a2dee37"
      },
      "execution_count": 19,
      "outputs": [
        {
          "output_type": "execute_result",
          "data": {
            "text/plain": [
              "master_metadata_track_name                    Redbone\n",
              "master_metadata_album_artist_name    Childish Gambino\n",
              "Name: 227, dtype: object"
            ],
            "text/html": [
              "<div>\n",
              "<style scoped>\n",
              "    .dataframe tbody tr th:only-of-type {\n",
              "        vertical-align: middle;\n",
              "    }\n",
              "\n",
              "    .dataframe tbody tr th {\n",
              "        vertical-align: top;\n",
              "    }\n",
              "\n",
              "    .dataframe thead th {\n",
              "        text-align: right;\n",
              "    }\n",
              "</style>\n",
              "<table border=\"1\" class=\"dataframe\">\n",
              "  <thead>\n",
              "    <tr style=\"text-align: right;\">\n",
              "      <th></th>\n",
              "      <th>227</th>\n",
              "    </tr>\n",
              "  </thead>\n",
              "  <tbody>\n",
              "    <tr>\n",
              "      <th>master_metadata_track_name</th>\n",
              "      <td>Redbone</td>\n",
              "    </tr>\n",
              "    <tr>\n",
              "      <th>master_metadata_album_artist_name</th>\n",
              "      <td>Childish Gambino</td>\n",
              "    </tr>\n",
              "  </tbody>\n",
              "</table>\n",
              "</div><br><label><b>dtype:</b> object</label>"
            ]
          },
          "metadata": {},
          "execution_count": 19
        }
      ]
    },
    {
      "cell_type": "code",
      "source": [
        "# artista más escuchado"
      ],
      "metadata": {
        "id": "ZmohYyp1rqnj"
      },
      "execution_count": null,
      "outputs": []
    }
  ]
}